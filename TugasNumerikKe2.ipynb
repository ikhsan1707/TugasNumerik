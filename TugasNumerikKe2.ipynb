{
 "cells": [
  {
   "cell_type": "markdown",
   "id": "7f8b011d-090b-403f-91b6-2c6ea1393de5",
   "metadata": {},
   "source": [
    "Nama : Ikhsan Milan Purnama"
   ]
  },
  {
   "cell_type": "markdown",
   "id": "422811d9-3cdf-4a46-9ccb-365be8b4cb35",
   "metadata": {},
   "source": [
    "NPM : 14071230024"
   ]
  },
  {
   "cell_type": "markdown",
   "id": "723687b7-e74e-44b3-9cb2-7afc08e00db3",
   "metadata": {},
   "source": [
    "**Tugas Ke-1**\n",
    "\n",
    "1. Instal VIM di WSL dengan perintah sudo apt install vim.\n",
    "2. Buka VIM dan buat file bernama paulo.txt dengan menjalankan vim paulo.txt.\n",
    "3. Tekan tombol 'i' untuk masuk ke mode penyisipan, lalu ketik teks yang diinginkan.\n",
    "4. Setelah selesai, tekan Esc, kemudian ketik :w untuk menyimpan file dan :q untuk keluar dari VIM.\n",
    "5. Untuk menghitung jumlah baris dalam file, gunakan perintah awk 'END {print \"Baris:\", NR}' paulo.txt.\n",
    "6. Untuk menghitung jumlah kata gunakan awk '{total_kata += NF} END {print \"Kata:\", total_kata}' paulo.txt.\n",
    "7. Jumlah karakter dalam file dapat dihitung dengan awk '{total_karakter += length($0) + 1} END {print \"Karakter:\", total_karakter}' paulo.txt.\n",
    "8. Untuk mencari kata seperti \"love\", \"victory\", atau \"dream\", gunakan awk '/love|victory|dream/' paulo.txt.\n",
    "9. Jika ingin mengganti kata \"every\" dengan \"each\", jalankan perintah awk '{gsub(/every/, \"each\"); print}' paulo.txt.\n",
    "10. Untuk menampilkan jumlah baris, kata, dan karakter per baris, gunakan perintah awk '{print \"Baris \" NR \": Kata = \" NF \", Karakter = \" length($0)}' paulo.txt.\n"
   ]
  },
  {
   "cell_type": "markdown",
   "id": "2aba0c5a-f369-495f-a075-5ef7ca2cf24e",
   "metadata": {},
   "source": [
    "**Tugas Ke-2**\n",
    "\n",
    "1. Buat file baru bernama data.txt menggunakan VIM dengan perintah vim data.csv\n",
    "2. Masukkan data x dan y yang akan digunakan untuk plotting, lalu simpan dengan :w dan keluar dengan :q.\n",
    "3. Instal gnuplot terlebih dahulu menggunakan sudo apt install gnuplot.\n",
    "4. Untuk menampilkan plot dari data x dan y, jalankan gnuplot -p -e \"plot 'data.txt' using 1:2 with linespoints title 'Data'\".\n",
    "5. Jika ingin menyimpan hasil plot dalam format PNG, gunakan gnuplot -e \"set terminal png; set output 'plot.png'; plot 'data.txt' using 1:2 with linespoints title 'Data'\".\n",
    "6. Untuk mengonversi file .txt ke .csv, gunakan awk '{print $1 \",\" $2}' data.txt > data.csv.\n",
    "7. Untuk mengonversi .txt ke .json, jalankan awk 'BEGIN {print \"[\"} {printf \"{ \\\"x\\\": %s, \\\"y\\\": %s }\", $1, $2; if (NR!=NF) print \",\"} END {print \"]\"}' data.txt > data.json."
   ]
  },
  {
   "cell_type": "markdown",
   "id": "77c3e46f-a5be-4c26-a2a4-c2cd0ffb9534",
   "metadata": {},
   "source": [
    "**Tugas Ke-3**\n",
    "\n",
    "1. Buat file C++ menggunakan VIM dengan mengetik vim metnum.cpp.\n",
    "2. Masukkan kode berikut ke dalam file:\n",
    "3. \n",
    "#include <iostream>\n",
    "using namespace std;\n",
    "int main() {\n",
    "    cout << \"METNUM\" << endl;\n",
    "    return 0;\n",
    "}\n",
    "4. Simpan dengan :w dan keluar dengan :q.\n",
    "5. Kompilasi dan jalankan kode C++ dengan perintah g++ metnum.cpp -o program lalu ./program.\n",
    "6. Buat file Shell Script dengan vim metnum.sh.\n",
    "7. Tambahkan kode berikut ke dalam file:\n",
    "\n",
    "#!/bin/bash\n",
    "echo \"METNUM\"\n",
    "\n",
    "8. Simpan dan keluar dari VIM, lalu jalankan script dengan bash metnum.sh.\n",
    "9. Untuk mencetak teks METNUM menggunakan awk, gunakan awk 'BEGIN {print \"METNUM\"}'.\n",
    "10. Agar Shell Script dapat dieksekusi secara langsung, jalankan chmod +x metnum.sh lalu ./metnum.sh.\n"
   ]
  },
  {
   "cell_type": "markdown",
   "id": "67d13cb5-d305-44d5-bbfc-54cdfc80655d",
   "metadata": {},
   "source": [
    "**Tugas Ke-4**\n",
    "\n",
    "1. Install Git di WSL dengan perintah 'sudo apt install git'\n",
    "2. Cek Instalasi Git, Verifikasi apakah Git telah terinstal dengan menjalankan: 'git --version'\n",
    "3. Lakukan Konfigurasi Git dengan mengantur nama pengguna 'git config --global user.name \"Nama Anda\"', dan email 'git config --global user.email \"email@example.com\"'\n",
    "4. Buat dan hubungkan repository git dengan wsl dengan perintah 'mkdir nama_proyek, cd nama_proyek, git init;\n",
    "5. Menambahkan SSH Key ke GitHub dengan perintah 'ssh-keygen -t rsa -b 4096 -C \"email@example.com\"'\n",
    "6. Simpan Perubahan pada GitHub dengan perintah : 'git add', Buat commit dengan pesan 'git commit -m \"Pesan commit pertama\"', Hubungkan dengan repository Github dengan perintah 'git remote add origin URL_Repository' , push perubahan ke repository : 'git push -u origin main'\n",
    "\n"
   ]
  }
 ],
 "metadata": {
  "kernelspec": {
   "display_name": "Python [conda env:base] *",
   "language": "python",
   "name": "conda-base-py"
  },
  "language_info": {
   "codemirror_mode": {
    "name": "ipython",
    "version": 3
   },
   "file_extension": ".py",
   "mimetype": "text/x-python",
   "name": "python",
   "nbconvert_exporter": "python",
   "pygments_lexer": "ipython3",
   "version": "3.12.7"
  }
 },
 "nbformat": 4,
 "nbformat_minor": 5
}
